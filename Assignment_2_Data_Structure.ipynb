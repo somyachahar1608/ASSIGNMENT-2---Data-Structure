{
  "nbformat": 4,
  "nbformat_minor": 0,
  "metadata": {
    "colab": {
      "provenance": []
    },
    "kernelspec": {
      "name": "python3",
      "display_name": "Python 3"
    },
    "language_info": {
      "name": "python"
    }
  },
  "cells": [
    {
      "cell_type": "markdown",
      "source": [
        "#DATA STRUCTURE"
      ],
      "metadata": {
        "id": "yTFlRYxVJnp5"
      }
    },
    {
      "cell_type": "markdown",
      "source": [
        "1. What are data structures, and why are they important ?\n",
        "    \n",
        "    >Data structures are a way of organizing and storing data in a computer so that it can be used efficiently. They are crucial for software development because they allow for better management, retrieval, and manipulation of data, leading to more efficient and optimized programs.\n"
      ],
      "metadata": {
        "id": "ATI4CibzJndl"
      }
    },
    {
      "cell_type": "markdown",
      "source": [
        "2.  Explain the difference between mutable and immutable data types with examples\n",
        "\n",
        "    >Mutable data types are those whose values can be changed after they are created, while immutable data types cannot be modified once created. Examples of mutable types include lists, dictionaries, and sets, whereas strings and tuples are immutable."
      ],
      "metadata": {
        "id": "PsCt5NnbJnVS"
      }
    },
    {
      "cell_type": "markdown",
      "source": [
        "3. What are the main differences between lists and tuples in Python ?\n",
        "\n",
        "   >Lists and tuples are both used to store a sequence of items in Python, but they have key differences.\n",
        "\n",
        "Mutability:\n",
        "\n",
        "Lists are mutable, meaning their contents can be changed after creation. You can add, remove, or modify elements in a list.\n",
        "\n",
        "Tuples are immutable, meaning their contents cannot be changed after creation. Once a tuple is defined, you cannot add, remove, or modify elements.\n",
        "\n",
        "  Syntax:\n",
        "\n",
        "Lists: are defined using square brackets [ ].\n",
        "\n",
        "Tuples: are defined using parentheses ( )."
      ],
      "metadata": {
        "id": "NlpOe6NNJnKP"
      }
    },
    {
      "cell_type": "markdown",
      "source": [
        "4. Describe how dictionaries store data ?\n",
        "   \n",
        "   >Dictionaries are used to store data values in key:value pairs. A dictionary is a collection which is ordered*, changeable and do not allow duplicates."
      ],
      "metadata": {
        "id": "7zDxbn1sJm4f"
      }
    },
    {
      "cell_type": "markdown",
      "source": [
        "5. Why might you use a set instead of a list in Python ?\n",
        "\n",
        "   >1. Uniqueness: Sets only store unique elements. If you try to add a duplicate to a set, it will simply be ignored. Lists, on the other hand, allow duplicate elements. If your data requires uniqueness, a set is the natural choice.\n",
        "   >2. Unordered: Sets are unordered collections. This means that the elements are not stored in any particular sequence, and you cannot access elements by index like you can with lists. If the order of the elements does not matter, a set can be more efficient."
      ],
      "metadata": {
        "id": "IzO_YkScLf1r"
      }
    },
    {
      "cell_type": "markdown",
      "source": [
        "6. What is a string in Python, and how is it different from a list ?\n",
        "\n",
        "   >Strings in Python are sequences of characters enclosed in quotes ( ' ' or “ ” ). Lists are ordered collections of items enclosed in square brackets [ ]. Strings are immutable, meaning they cannot be changed once created, while lists are mutable and can be modified as needed."
      ],
      "metadata": {
        "id": "VsDsvRjjLgCE"
      }
    },
    {
      "cell_type": "markdown",
      "source": [
        "7. How do tuples ensure data integrity in Python ?\n",
        "\n",
        "   >Tuples in Python ensure data integrity through their immutability. Once a tuple is created, its elements cannot be changed, added, or removed. This characteristic prevents accidental modifications, ensuring that the data remains consistent throughout the program's execution."
      ],
      "metadata": {
        "id": "8SL3N7HBLgOD"
      }
    },
    {
      "cell_type": "markdown",
      "source": [
        "8.  What is a hash table, and how does it relate to dictionaries in Python ?\n",
        "\n",
        "    >A hash table is a data structure that implements an associative array, also known as a dictionary or map. It uses a hash function to compute an index, called a hash code, into an array of buckets or slots, where the desired value can be found. This allows for efficient storage and retrieval of data, with an average time complexity of O(1) for insertion, lookup, and deletion operations."
      ],
      "metadata": {
        "id": "89x8AIaFLga_"
      }
    },
    {
      "cell_type": "markdown",
      "source": [
        "9.  Can lists contain different data types in Python ?\n",
        "\n",
        "    >Yes, lists in Python can contain elements of different data types. This means a single list can hold integers, floats, strings, booleans, and even other complex data structures like lists, tuples, or dictionaries."
      ],
      "metadata": {
        "id": "2TwCbBy1LgmH"
      }
    },
    {
      "cell_type": "markdown",
      "source": [
        "10. Explain why strings are immutable in Python ?\n",
        "\n",
        "    >Immutable strings can be efficiently stored in memory. Since their size is fixed after creation, Python can optimize memory allocation and reuse string objects."
      ],
      "metadata": {
        "id": "p24CKelxLgpr"
      }
    },
    {
      "cell_type": "markdown",
      "source": [
        "11. What advantages do dictionaries offer over lists for certain tasks ?\n",
        "\n",
        "    >Dictionaries excel in scenarios requiring fast lookups, key-value associations, and complex data mappings, while lists are ideal for ordered collections, sequential processing, and simple data storage."
      ],
      "metadata": {
        "id": "7SaKS9glLgs4"
      }
    },
    {
      "cell_type": "markdown",
      "source": [
        "12. Describe a scenario where using a tuple would be preferable over a list ?\n",
        "\n",
        "    >Tuples are immutable. Hence, they are primarily used to store data that doesn't change frequently. Any operation can store data in a tuple when you don't want it to change. Tuples are great to use if you want the data in your collection to be read-only, never to change, and always remain the same and constant."
      ],
      "metadata": {
        "id": "Ov3-oDwKLgv2"
      }
    },
    {
      "cell_type": "markdown",
      "source": [
        "13. How do sets handle duplicate values in Python ?\n",
        "    \n",
        "    >In Python, sets are designed to store only unique elements. When you attempt to add a duplicate value to a set, it will be ignored, and the set will remain unchanged. This behavior ensures that a set always contains distinct elements."
      ],
      "metadata": {
        "id": "nJizKSMxLgzN"
      }
    },
    {
      "cell_type": "markdown",
      "source": [
        "14.  How does the “in” keyword work differently for lists and dictionaries ?\n",
        "     \n",
        "     >The in operation for the dictionary tests on keys. The key of the dictionary is a unique value as well as the set, and the execution time is about the same as for sets. On the other hand, dictionary values can be duplicated like a list."
      ],
      "metadata": {
        "id": "Rj0bvfKwLg13"
      }
    },
    {
      "cell_type": "markdown",
      "source": [
        "15. Can you modify the elements of a tuple? Explain why or why not ?\n",
        "    \n",
        "    >No, you cannot directly modify the elements of a tuple after it has been created. Tuples are immutable data structures\n",
        "\n",
        "    >Tuples are well-suited for applications like representing fixed sets of data, such as coordinates, records, or keys in dictionaries.\n",
        "    >Immutability ensures that the values within a tuple remain consistent, making them reliable for situations where data integrity is crucial."
      ],
      "metadata": {
        "id": "9A4ydJyFLg5Q"
      }
    },
    {
      "cell_type": "markdown",
      "source": [
        "16. What is a nested dictionary, and give an example of its use case ?\n",
        "\n",
        "    >A nested dictionary in Python is a dictionary where the values are themselves dictionaries. This allows you to create hierarchical or multi-level data structures, where each dictionary can contain other dictionaries as its values."
      ],
      "metadata": {
        "id": "soxVbLhzLeDG"
      }
    },
    {
      "cell_type": "markdown",
      "source": [
        "17. Describe the time complexity of accessing elements in a dictionary ?\n",
        "\n",
        "    >Accessing an element in a dictionary typically has an average time complexity of O(1), meaning it takes constant time regardless of the dictionary's size. This is due to the use of a hash table, which allows for direct lookup of elements based on their key."
      ],
      "metadata": {
        "id": "VfZtQG4HR6j3"
      }
    },
    {
      "cell_type": "markdown",
      "source": [
        "18. In what situations are lists preferred over dictionaries ?\n",
        "\n",
        "    >Lists are preferred over dictionaries in situations where order and sequential access are important, when you need to store a collection of items that may contain duplicates, or when you need to perform operations like sorting or slicing frequently. Dictionaries are generally better for situations where you need to quickly access items by a unique key and where order is not important.\n",
        "\n",
        "   "
      ],
      "metadata": {
        "id": "QQQ9uB4MR7TK"
      }
    },
    {
      "cell_type": "markdown",
      "source": [
        "19. Why are dictionaries considered unordered, and how does that affect data retrieval ?\n",
        "\n",
        "    >Dictionary is a data structure which is a important value structure, optimized for fast storage and recovery based on key. In python, dictionaries are un-ordered because Python dictionaries are not intended to be in order, as simple as that."
      ],
      "metadata": {
        "id": "56JbmyVcR8Xw"
      }
    },
    {
      "cell_type": "markdown",
      "source": [
        "20. Explain the difference between a list and a dictionary in terms of data retrieval.\n",
        "\n",
        "    >In terms of data retrieval, lists are accessed by index, while dictionaries are accessed by key. This means that to retrieve a specific element from a list, you use its numerical position (starting from 0), whereas for a dictionary, you use the associated key to find the corresponding value."
      ],
      "metadata": {
        "id": "qDXwC0KpR87A"
      }
    },
    {
      "cell_type": "markdown",
      "source": [
        "# PRACTICAL QUESTIONS\n"
      ],
      "metadata": {
        "id": "k1V3V-mRTLmS"
      }
    },
    {
      "cell_type": "code",
      "source": [
        "# Write a code to create a string with your name and print it\n",
        "info = (\"Somya\", \"20\")\n",
        "print(info)"
      ],
      "metadata": {
        "colab": {
          "base_uri": "https://localhost:8080/"
        },
        "id": "-UGWtlTpTUc0",
        "outputId": "e1c9d9dd-67ee-459f-a59b-a8156a855aa7"
      },
      "execution_count": 3,
      "outputs": [
        {
          "output_type": "stream",
          "name": "stdout",
          "text": [
            "('Somya', '20')\n"
          ]
        }
      ]
    },
    {
      "cell_type": "code",
      "source": [
        "# Write a code to find the length of the string \"Hello World\"\n",
        "word = (\"Hello World\")\n",
        "len(word)"
      ],
      "metadata": {
        "colab": {
          "base_uri": "https://localhost:8080/"
        },
        "id": "83FzSYhLT2xp",
        "outputId": "6f769d1e-33d0-4dcd-c3e9-b436b3167d2c"
      },
      "execution_count": 4,
      "outputs": [
        {
          "output_type": "execute_result",
          "data": {
            "text/plain": [
              "11"
            ]
          },
          "metadata": {},
          "execution_count": 4
        }
      ]
    },
    {
      "cell_type": "code",
      "source": [
        "# Write a code to slice the first 3 characters from the string \"Python Programming\"\n",
        "string = (\"Python Programming\")\n",
        "string[:3]"
      ],
      "metadata": {
        "colab": {
          "base_uri": "https://localhost:8080/",
          "height": 36
        },
        "id": "t0RVLdM7Ubwv",
        "outputId": "9e96775d-deb3-4b27-f597-1c88cf8da6a4"
      },
      "execution_count": 6,
      "outputs": [
        {
          "output_type": "execute_result",
          "data": {
            "text/plain": [
              "'Pyt'"
            ],
            "application/vnd.google.colaboratory.intrinsic+json": {
              "type": "string"
            }
          },
          "metadata": {},
          "execution_count": 6
        }
      ]
    },
    {
      "cell_type": "code",
      "source": [
        "# Write a code to convert the string \"hello\" to uppercase\n",
        "string = (\"hello\")\n",
        "string.upper()"
      ],
      "metadata": {
        "colab": {
          "base_uri": "https://localhost:8080/",
          "height": 36
        },
        "id": "5sFOa9hYU2S6",
        "outputId": "2e517ad7-2054-4bc0-ea12-1875206293f3"
      },
      "execution_count": 11,
      "outputs": [
        {
          "output_type": "execute_result",
          "data": {
            "text/plain": [
              "'HELLO'"
            ],
            "application/vnd.google.colaboratory.intrinsic+json": {
              "type": "string"
            }
          },
          "metadata": {},
          "execution_count": 11
        }
      ]
    },
    {
      "cell_type": "code",
      "source": [
        "# Write a code to replace the word \"apple\" with \"orange\" in the string \"I like apple\"\n",
        "string =(\"I like apple\")\n",
        "string.replace(\"apple\", \"orange\")"
      ],
      "metadata": {
        "colab": {
          "base_uri": "https://localhost:8080/",
          "height": 36
        },
        "id": "KdLZLZHuVHAC",
        "outputId": "61e1f419-c5fb-4143-9ece-294b13df1526"
      },
      "execution_count": 29,
      "outputs": [
        {
          "output_type": "execute_result",
          "data": {
            "text/plain": [
              "'I like orange'"
            ],
            "application/vnd.google.colaboratory.intrinsic+json": {
              "type": "string"
            }
          },
          "metadata": {},
          "execution_count": 29
        }
      ]
    },
    {
      "cell_type": "code",
      "source": [
        "# Write a code to create a list with numbers 1 to 5 and print it\n",
        "list = [1, 2, 3, 4, 5]\n",
        "list"
      ],
      "metadata": {
        "colab": {
          "base_uri": "https://localhost:8080/"
        },
        "id": "tYn7DEFvVsGT",
        "outputId": "120a266e-84bb-4340-f5a4-50d52ca3227b"
      },
      "execution_count": 32,
      "outputs": [
        {
          "output_type": "execute_result",
          "data": {
            "text/plain": [
              "[1, 2, 3, 4, 5]"
            ]
          },
          "metadata": {},
          "execution_count": 32
        }
      ]
    },
    {
      "cell_type": "code",
      "source": [
        "# Write a code to append the number 10 to the list [1, 2, 3, 4]\n",
        "list = [1, 2, 3, 4]\n",
        "list.append(10)\n",
        "list"
      ],
      "metadata": {
        "colab": {
          "base_uri": "https://localhost:8080/"
        },
        "id": "Kj1sAvMIX3DG",
        "outputId": "430ea271-71e8-4512-a24d-139a3af0a65a"
      },
      "execution_count": 33,
      "outputs": [
        {
          "output_type": "execute_result",
          "data": {
            "text/plain": [
              "[1, 2, 3, 4, 10]"
            ]
          },
          "metadata": {},
          "execution_count": 33
        }
      ]
    },
    {
      "cell_type": "code",
      "source": [
        "# Write a code to remove the number 3 from the list [1, 2, 3, 4, 5]\n",
        "list = [1, 2, 3, 4, 5]\n",
        "list.remove(3)\n",
        "list"
      ],
      "metadata": {
        "colab": {
          "base_uri": "https://localhost:8080/"
        },
        "id": "_7X6YugAYWSX",
        "outputId": "210576e2-21bf-4262-b24a-1b6ef642cd90"
      },
      "execution_count": 34,
      "outputs": [
        {
          "output_type": "execute_result",
          "data": {
            "text/plain": [
              "[1, 2, 4, 5]"
            ]
          },
          "metadata": {},
          "execution_count": 34
        }
      ]
    },
    {
      "cell_type": "code",
      "source": [
        "# Write a code to access the second element in the list ['a', 'b', 'c', 'd']\n",
        "list = ['a', 'b', 'c', 'd']\n",
        "list[1]"
      ],
      "metadata": {
        "colab": {
          "base_uri": "https://localhost:8080/",
          "height": 36
        },
        "id": "DDhMchOcYjVx",
        "outputId": "a259f1c4-98f0-422c-b539-57df42c81f60"
      },
      "execution_count": 35,
      "outputs": [
        {
          "output_type": "execute_result",
          "data": {
            "text/plain": [
              "'b'"
            ],
            "application/vnd.google.colaboratory.intrinsic+json": {
              "type": "string"
            }
          },
          "metadata": {},
          "execution_count": 35
        }
      ]
    },
    {
      "cell_type": "code",
      "source": [
        "# Write a code to reverse the list [10, 20, 30, 40, 50].\n",
        "list = [10, 20, 30, 40, 50]\n",
        "list.reverse()\n",
        "list"
      ],
      "metadata": {
        "colab": {
          "base_uri": "https://localhost:8080/"
        },
        "id": "VHjc0PGtYx7x",
        "outputId": "6b610568-352f-4c82-ef3c-785b71244da0"
      },
      "execution_count": 36,
      "outputs": [
        {
          "output_type": "execute_result",
          "data": {
            "text/plain": [
              "[50, 40, 30, 20, 10]"
            ]
          },
          "metadata": {},
          "execution_count": 36
        }
      ]
    },
    {
      "cell_type": "code",
      "source": [
        "#  Write a code to create a tuple with the elements 100, 200, 300 and print it.\n",
        "tuple = (100, 200, 300)\n",
        "tuple"
      ],
      "metadata": {
        "colab": {
          "base_uri": "https://localhost:8080/"
        },
        "id": "7wysK_FdZNmB",
        "outputId": "ddfbce9c-164e-41b3-d786-132c4c2d1d4a"
      },
      "execution_count": 37,
      "outputs": [
        {
          "output_type": "execute_result",
          "data": {
            "text/plain": [
              "(100, 200, 300)"
            ]
          },
          "metadata": {},
          "execution_count": 37
        }
      ]
    },
    {
      "cell_type": "code",
      "source": [
        "#  Write a code to access the second-to-last element of the tuple ('red', 'green', 'blue', 'yellow')\n",
        "tuple = ('red', 'green', 'blue', 'yellow')\n",
        "tuple[1:]"
      ],
      "metadata": {
        "colab": {
          "base_uri": "https://localhost:8080/"
        },
        "id": "8_OXjtBDZlp4",
        "outputId": "c3b82932-3d93-43d7-e141-593d10a4d307"
      },
      "execution_count": 38,
      "outputs": [
        {
          "output_type": "execute_result",
          "data": {
            "text/plain": [
              "('green', 'blue', 'yellow')"
            ]
          },
          "metadata": {},
          "execution_count": 38
        }
      ]
    },
    {
      "cell_type": "code",
      "source": [
        "#  Write a code to find the minimum number in the tuple (10, 20, 5, 15)\n",
        "numbers = (10, 20, 5, 15)\n",
        "minimum_number = min(numbers)\n",
        "print(minimum_number)"
      ],
      "metadata": {
        "colab": {
          "base_uri": "https://localhost:8080/"
        },
        "id": "0W-WYMsiZ0yc",
        "outputId": "40bbb8ab-2eeb-4b12-899a-e1d6685e3ef8"
      },
      "execution_count": 46,
      "outputs": [
        {
          "output_type": "stream",
          "name": "stdout",
          "text": [
            "5\n"
          ]
        }
      ]
    },
    {
      "cell_type": "code",
      "source": [
        "#  Write a code to find the index of the element \"cat\" in the tuple ('dog', 'cat', 'rabbit')\n",
        "pet = ('dog', 'cat', 'rabbit')\n",
        "pet.index('cat')"
      ],
      "metadata": {
        "colab": {
          "base_uri": "https://localhost:8080/"
        },
        "id": "In14A96rbFCs",
        "outputId": "fb90d257-d87a-4126-b4c4-0a16adecb996"
      },
      "execution_count": 47,
      "outputs": [
        {
          "output_type": "execute_result",
          "data": {
            "text/plain": [
              "1"
            ]
          },
          "metadata": {},
          "execution_count": 47
        }
      ]
    },
    {
      "cell_type": "code",
      "source": [
        "#  Write a code to create a tuple containing three different fruits and check if \"kiwi\" is in it.\n",
        "fruits = (\"apple\", \"banana\", \"orange\")\n",
        "\"kiwi\" in fruits"
      ],
      "metadata": {
        "colab": {
          "base_uri": "https://localhost:8080/"
        },
        "id": "vGLFQCIHbewG",
        "outputId": "aade38bb-974a-4fcc-a249-d901c8a831ca"
      },
      "execution_count": 50,
      "outputs": [
        {
          "output_type": "execute_result",
          "data": {
            "text/plain": [
              "False"
            ]
          },
          "metadata": {},
          "execution_count": 50
        }
      ]
    },
    {
      "cell_type": "code",
      "source": [
        "#  Write a code to create a set with the elements 'a', 'b', 'c' and print it.\n",
        "alpha = {'a', 'b', 'c'}\n",
        "print(alpha)"
      ],
      "metadata": {
        "colab": {
          "base_uri": "https://localhost:8080/"
        },
        "id": "iETyVMDYbslH",
        "outputId": "bd07b2dc-1b3c-4b0e-c0c7-9e525b6a1534"
      },
      "execution_count": 51,
      "outputs": [
        {
          "output_type": "stream",
          "name": "stdout",
          "text": [
            "{'b', 'a', 'c'}\n"
          ]
        }
      ]
    },
    {
      "cell_type": "code",
      "source": [
        "# Write a code to clear all elements from the set {1, 2, 3, 4, 5}.\n",
        "num = {1, 2, 3, 4, 5}\n",
        "num.clear()\n",
        "num"
      ],
      "metadata": {
        "colab": {
          "base_uri": "https://localhost:8080/"
        },
        "id": "Fx4GoaEXcOVh",
        "outputId": "8f5b45f8-e8a2-4fa3-9578-8e68c63c2de4"
      },
      "execution_count": 52,
      "outputs": [
        {
          "output_type": "execute_result",
          "data": {
            "text/plain": [
              "set()"
            ]
          },
          "metadata": {},
          "execution_count": 52
        }
      ]
    },
    {
      "cell_type": "code",
      "source": [
        "# Write a code to remove the element 4 from the set {1, 2, 3, 4}.\n",
        "num = {1, 2, 3, 4}\n",
        "num.remove(4)\n",
        "num"
      ],
      "metadata": {
        "colab": {
          "base_uri": "https://localhost:8080/"
        },
        "id": "CxTQFg2ccWuf",
        "outputId": "f9d1f71a-d3e7-4fa2-d577-2057ce8679d0"
      },
      "execution_count": 54,
      "outputs": [
        {
          "output_type": "execute_result",
          "data": {
            "text/plain": [
              "{1, 2, 3}"
            ]
          },
          "metadata": {},
          "execution_count": 54
        }
      ]
    },
    {
      "cell_type": "code",
      "source": [
        "#  Write a code to find the union of two sets {1, 2, 3} and {3, 4, 5}.\n",
        "set_1 = {1, 2, 3}\n",
        "set_2 = {3, 4, 5}\n",
        "set_1|set_2"
      ],
      "metadata": {
        "colab": {
          "base_uri": "https://localhost:8080/"
        },
        "id": "0_hWSNaZcic5",
        "outputId": "b13e6846-e048-4695-b8cd-408877e19b66"
      },
      "execution_count": 55,
      "outputs": [
        {
          "output_type": "execute_result",
          "data": {
            "text/plain": [
              "{1, 2, 3, 4, 5}"
            ]
          },
          "metadata": {},
          "execution_count": 55
        }
      ]
    },
    {
      "cell_type": "code",
      "source": [
        "#  Write a code to find the intersection of two sets {1, 2, 3} and {2, 3, 4}\n",
        "set_1 = {1, 2, 3}\n",
        "set_2 = {2, 3, 4}\n",
        "set_1 & set_2"
      ],
      "metadata": {
        "colab": {
          "base_uri": "https://localhost:8080/"
        },
        "id": "6MQTdGL-c7KX",
        "outputId": "784cc4aa-51fb-47c2-b0d4-3c518e3ab99b"
      },
      "execution_count": 56,
      "outputs": [
        {
          "output_type": "execute_result",
          "data": {
            "text/plain": [
              "{2, 3}"
            ]
          },
          "metadata": {},
          "execution_count": 56
        }
      ]
    },
    {
      "cell_type": "code",
      "source": [
        "# Write a code to create a dictionary with the keys \"name\", \"age\", and \"city\", and print it.\n",
        "dic = {\"name\": \"Somya\", \"age\": 20, \"city\": \"Ghaziabad\"}\n",
        "dic"
      ],
      "metadata": {
        "colab": {
          "base_uri": "https://localhost:8080/"
        },
        "id": "2m4LlmBGdNdr",
        "outputId": "82aa50be-419b-4707-a947-7a533b5eace8"
      },
      "execution_count": 57,
      "outputs": [
        {
          "output_type": "execute_result",
          "data": {
            "text/plain": [
              "{'name': 'Somya', 'age': 20, 'city': 'Ghaziabad'}"
            ]
          },
          "metadata": {},
          "execution_count": 57
        }
      ]
    },
    {
      "cell_type": "code",
      "source": [
        "# Write a code to add a new key-value pair \"country\": \"USA\" to the dictionary {'name': 'John', 'age': 25}\n",
        "dic = {'name': 'John', 'age': 25}\n",
        "dic[\"country\"] = \"USA\"\n",
        "dic"
      ],
      "metadata": {
        "colab": {
          "base_uri": "https://localhost:8080/"
        },
        "id": "KXhTw644dkBK",
        "outputId": "b0540b87-d0fe-49af-f297-1bbef30fad3d"
      },
      "execution_count": 58,
      "outputs": [
        {
          "output_type": "execute_result",
          "data": {
            "text/plain": [
              "{'name': 'John', 'age': 25, 'country': 'USA'}"
            ]
          },
          "metadata": {},
          "execution_count": 58
        }
      ]
    },
    {
      "cell_type": "code",
      "source": [
        "# Write a code to access the value associated with the key \"name\" in the dictionary {'name': 'Alice', 'age': 30}.\n",
        "dic = {'name': 'Alice', 'age': 30}\n",
        "dic[\"name\"]"
      ],
      "metadata": {
        "colab": {
          "base_uri": "https://localhost:8080/",
          "height": 36
        },
        "id": "iz2iCU9kduFa",
        "outputId": "4978f776-c0bc-44bf-89b4-744643e26c38"
      },
      "execution_count": 59,
      "outputs": [
        {
          "output_type": "execute_result",
          "data": {
            "text/plain": [
              "'Alice'"
            ],
            "application/vnd.google.colaboratory.intrinsic+json": {
              "type": "string"
            }
          },
          "metadata": {},
          "execution_count": 59
        }
      ]
    },
    {
      "cell_type": "code",
      "source": [
        "#  Write a code to remove the key \"age\" from the dictionary {'name': 'Bob', 'age': 22, 'city': 'New York'}\n",
        "dic = {'name': 'Bob', 'age': 22, 'city': 'New York'}\n",
        "dic.pop(\"age\")\n",
        "dic"
      ],
      "metadata": {
        "colab": {
          "base_uri": "https://localhost:8080/"
        },
        "id": "hAnt9lCvd3oY",
        "outputId": "9ddd732c-f158-46b1-e5e5-e68959d63072"
      },
      "execution_count": 62,
      "outputs": [
        {
          "output_type": "execute_result",
          "data": {
            "text/plain": [
              "{'name': 'Bob', 'city': 'New York'}"
            ]
          },
          "metadata": {},
          "execution_count": 62
        }
      ]
    },
    {
      "cell_type": "code",
      "source": [
        "#  Write a code to check if the key \"city\" exists in the dictionary {'name': 'Alice', 'city': 'Paris'}.\n",
        "dic = {'name': 'Alice', 'city': 'Paris'}\n",
        "dic[\"city\"]"
      ],
      "metadata": {
        "colab": {
          "base_uri": "https://localhost:8080/",
          "height": 36
        },
        "id": "JMsoNXWleAGt",
        "outputId": "e40b7a87-076b-4f76-be88-5bbcc89207f3"
      },
      "execution_count": 66,
      "outputs": [
        {
          "output_type": "execute_result",
          "data": {
            "text/plain": [
              "'Paris'"
            ],
            "application/vnd.google.colaboratory.intrinsic+json": {
              "type": "string"
            }
          },
          "metadata": {},
          "execution_count": 66
        }
      ]
    },
    {
      "cell_type": "code",
      "source": [
        "#  Write a code to create a list, a tuple, and a dictionary, and print them all.\n",
        "list = [1, 2, 3, 4]\n",
        "tuple = (1, 2, 3, 4)\n",
        "dic = {\"name\": \"Somya\", \"age\": 20, \"city\": \"Ghaziabad\"}\n",
        "print(list)\n",
        "print(tuple)\n",
        "print(dic)"
      ],
      "metadata": {
        "colab": {
          "base_uri": "https://localhost:8080/"
        },
        "id": "lv0c9ilIeUt1",
        "outputId": "c7cc0d1d-b3aa-4dd5-fafe-a08e4bb6b18b"
      },
      "execution_count": 70,
      "outputs": [
        {
          "output_type": "stream",
          "name": "stdout",
          "text": [
            "[1, 2, 3, 4]\n",
            "(1, 2, 3, 4)\n",
            "{'name': 'Somya', 'age': 20, 'city': 'Ghaziabad'}\n"
          ]
        }
      ]
    },
    {
      "cell_type": "code",
      "source": [
        "# Write a code to create a list of 5 random numbers between 1 and 100, sort it in ascending order, and print the\n",
        "# result.(replaced)\n",
        "list = [40, 60, 30, 20, 55]\n",
        "list.sort()\n",
        "print(list)"
      ],
      "metadata": {
        "colab": {
          "base_uri": "https://localhost:8080/"
        },
        "id": "-USUzyHLfOgm",
        "outputId": "0c61f87b-7771-4348-e116-a263ee14f758"
      },
      "execution_count": 74,
      "outputs": [
        {
          "output_type": "stream",
          "name": "stdout",
          "text": [
            "[20, 30, 40, 55, 60]\n"
          ]
        }
      ]
    },
    {
      "cell_type": "code",
      "source": [
        "#  Write a code to create a list with strings and print the element at the third index.\n",
        "list = [\"apple\", \"banana\", \"orange\", \"kiwi\"]\n",
        "list[3]"
      ],
      "metadata": {
        "colab": {
          "base_uri": "https://localhost:8080/",
          "height": 36
        },
        "id": "vadCICVog70b",
        "outputId": "cdb14bd0-a2d6-48e9-8f29-ff042fd245e3"
      },
      "execution_count": 76,
      "outputs": [
        {
          "output_type": "execute_result",
          "data": {
            "text/plain": [
              "'kiwi'"
            ],
            "application/vnd.google.colaboratory.intrinsic+json": {
              "type": "string"
            }
          },
          "metadata": {},
          "execution_count": 76
        }
      ]
    },
    {
      "cell_type": "code",
      "source": [
        "#  Write a code to combine two dictionaries into one and print the result.\n",
        "dict_1 = {'a': 1, 'b': 2}\n",
        "dict_2 = {'d': 3, 'c': 4}\n",
        "dict_1 | dict_2"
      ],
      "metadata": {
        "colab": {
          "base_uri": "https://localhost:8080/"
        },
        "id": "_Qq6xHj_hTuf",
        "outputId": "8225e2fb-5135-4b8f-906e-894b39804883"
      },
      "execution_count": 81,
      "outputs": [
        {
          "output_type": "execute_result",
          "data": {
            "text/plain": [
              "{'a': 1, 'b': 2, 'd': 3, 'c': 4}"
            ]
          },
          "metadata": {},
          "execution_count": 81
        }
      ]
    },
    {
      "cell_type": "code",
      "source": [
        "#  Write a code to convert a list of strings into a set.\n",
        "list = [\"apple\", \"banana\", \"orange\", \"kiwi\"]\n",
        "set(list)"
      ],
      "metadata": {
        "colab": {
          "base_uri": "https://localhost:8080/"
        },
        "id": "4mSjQ_HCh_AY",
        "outputId": "927d2673-e2d7-4858-d8ff-7e55c0ebbf53"
      },
      "execution_count": 82,
      "outputs": [
        {
          "output_type": "execute_result",
          "data": {
            "text/plain": [
              "{'apple', 'banana', 'kiwi', 'orange'}"
            ]
          },
          "metadata": {},
          "execution_count": 82
        }
      ]
    },
    {
      "cell_type": "code",
      "source": [],
      "metadata": {
        "id": "cf267ZwXiQim"
      },
      "execution_count": null,
      "outputs": []
    }
  ]
}